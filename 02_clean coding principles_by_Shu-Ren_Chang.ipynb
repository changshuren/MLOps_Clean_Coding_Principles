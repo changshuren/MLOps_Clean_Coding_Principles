{
 "cells": [
  {
   "cell_type": "markdown",
   "metadata": {},
   "source": [
    "### clean coding principles, which are as follows:\n",
    "\n",
    "--Meaningful naming convention: The name of the variable should always be descriptive and highlight its purpose.\n",
    "\n",
    "--Code modularisation: This refers to the principle of organising code into functions so that the function can be then reused, and the code looks concise and readable. It is also known as the ‘do not repeat yourself’ (DRY) principle.\n",
    "\n",
    "--Code optimisation: Code optimisation deals with the runtime execution and memory utilisation aspects of a program.\n",
    "\n",
    "--Code documentation: Code documentation ensures that the code is well-documented and highlights the details of each aspect of the code such as function arguments, return types and description.\n",
    "\n",
    "--Code linting: Code linting is the process of checking whether the guidelines associated with the programming language are followed. For example, Python follows the guidelines described in PEP8(Python Enhancement Proposal)."
   ]
  },
  {
   "cell_type": "markdown",
   "metadata": {},
   "source": [
    "### name convention"
   ]
  },
  {
   "cell_type": "code",
   "execution_count": 12,
   "metadata": {},
   "outputs": [
    {
     "name": "stdout",
     "output_type": "stream",
     "text": [
      "12 88\n",
      "22 99\n",
      "33 66\n",
      "44 77\n",
      "55 99\n",
      "85.8\n"
     ]
    }
   ],
   "source": [
    "# bad one\n",
    "x = [12, 22, 33, 44, 55]\n",
    "y = [88, 99, 66, 77, 99]\n",
    "z = (88 + 99 + 66 + 77 + 99) / len(y)\n",
    "for i in range(len(x)):\n",
    "    print(x[i], y[i])\n",
    "print(z)\n"
   ]
  },
  {
   "cell_type": "code",
   "execution_count": 2,
   "metadata": {},
   "outputs": [
    {
     "name": "stdout",
     "output_type": "stream",
     "text": [
      "12 88\n",
      "22 99\n",
      "33 66\n",
      "44 77\n",
      "55 99\n",
      "85.8\n"
     ]
    }
   ],
   "source": [
    "# good one\n",
    "# Clear Code\n",
    "roll_no = [12, 22, 33, 44, 55]\n",
    "marks = [88, 99, 66, 77, 99]\n",
    "mean_marks = (88 + 99 + 66 + 77 + 99) / len(marks)\n",
    "for i in range(len(roll_no)):\n",
    "    print(roll_no[i], marks[i])\n",
    "print(mean_marks)"
   ]
  },
  {
   "cell_type": "markdown",
   "metadata": {},
   "source": [
    "--Code modularisation: This refers to the principle of organising code into functions so that the function can be then reused, and the code looks concise and readable. It is also known as the ‘do not repeat yourself’ (DRY) principle."
   ]
  },
  {
   "cell_type": "code",
   "execution_count": 118,
   "metadata": {},
   "outputs": [
    {
     "data": {
      "text/plain": [
       "<Axes: >"
      ]
     },
     "execution_count": 118,
     "metadata": {},
     "output_type": "execute_result"
    },
    {
     "data": {
      "image/png": "[encoded data removed]",
      "text/plain": [
       "<Figure size 1000x500 with 1 Axes>"
      ]
     },
     "metadata": {},
     "output_type": "display_data"
    },
    {
     "data": {
      "image/png": "[encoded data removed]",
      "text/plain": [
       "<Figure size 1000x500 with 1 Axes>"
      ]
     },
     "metadata": {},
     "output_type": "display_data"
    }
   ],
   "source": [
    "# bad one\n",
    "import pandas as pd\n",
    "\n",
    "# Load the Titanic dataset\n",
    "train = pd.read_csv('https://web.stanford.edu/class/archive/cs/cs109/cs109.1166/stuff/titanic.csv')\n",
    "\n",
    "#plotting the distribution of Survived/Dead in the column 'Sex'\n",
    "survived = train[train['Survived']==1]['Sex'].value_counts()\n",
    "dead = train[train['Survived']==0]['Sex'].value_counts()\n",
    "df = pd.DataFrame([survived,dead])\n",
    "df.index = ['Survived','Dead']\n",
    "df.plot(kind='bar',stacked=True, figsize=(10,5))\n",
    "\n",
    "#plotting the distribution of Survived/Dead in the column 'Plass'\n",
    "survived = train[train['Survived']==1]['Pclass'].value_counts()\n",
    "dead = train[train['Survived']==0]['Pclass'].value_counts()\n",
    "df = pd.DataFrame([survived,dead])\n",
    "df.index = ['Survived','Dead']\n",
    "df.plot(kind='bar',stacked=True, figsize=(10,5))\n"
   ]
  },
  {
   "cell_type": "code",
   "execution_count": 119,
   "metadata": {},
   "outputs": [],
   "source": [
    "# good one\n",
    "\n",
    "#Created a function to replace the above code\n",
    "def bar_chart(feature):\n",
    "    survived = train[train['Survived']==1][feature].value_counts()\n",
    "    dead = train[train['Survived']==0][feature].value_counts()\n",
    "    df = pd.DataFrame([survived,dead])\n",
    "    df.index = ['Survived','Dead']\n",
    "    df.plot(kind='bar',stacked=True, figsize=(10,5))"
   ]
  },
  {
   "cell_type": "markdown",
   "metadata": {},
   "source": [
    "### code refactoring"
   ]
  },
  {
   "cell_type": "code",
   "execution_count": 22,
   "metadata": {},
   "outputs": [
    {
     "name": "stdout",
     "output_type": "stream",
     "text": [
      "[1]\n",
      "[9]\n",
      "[25]\n",
      "[1]\n",
      "[1, 9]\n",
      "[1, 9, 25]\n",
      "[1, 9, 25]\n"
     ]
    }
   ],
   "source": [
    "## Case 1: List Comprehensions in place of for loop\n",
    "# Code to create a new squared_list of numbers based on conditon(if odd)\n",
    "\n",
    "#bad\n",
    "my_numbers = [1,2,3,4,5]\n",
    "\n",
    "sqrd_list = []\n",
    "for item in my_numbers:\n",
    "  if item % 2 == 1:\n",
    "    sqrd_list.append(item ** 2)\n",
    "    print(sqrd_list)\n",
    "\n",
    "\n",
    "    sqrd_list = []\n",
    "for item in my_numbers:\n",
    "  if item % 2 == 1:\n",
    "    sqrd_list.append(item ** 2)\n",
    "    print(sqrd_list)\n",
    "\n",
    "print(sqrd_list)"
   ]
  },
  {
   "cell_type": "code",
   "execution_count": 23,
   "metadata": {},
   "outputs": [
    {
     "name": "stdout",
     "output_type": "stream",
     "text": [
      "[1, 9, 25]\n"
     ]
    }
   ],
   "source": [
    "#good\n",
    "my_numbers = [1,2,3,4,5]\n",
    "\n",
    "# The above four lines can be replaced by a single line\n",
    "sqrd_list = [value ** 2 for value in my_numbers if value % 2 == 1]\n",
    "print(sqrd_list)"
   ]
  },
  {
   "cell_type": "code",
   "execution_count": 29,
   "metadata": {},
   "outputs": [],
   "source": [
    "## Case 2: Value Assignment Using tuple unpacking\n",
    "#bad\n",
    "\n",
    "'''\n",
    "name = 'Steve'\n",
    "age = 44\n",
    "roll_no = 28\n",
    "'''\n",
    "\n",
    "# good\n",
    "\n",
    "# The above task can be easily done using tuple unpacking\n",
    "# on a single line\n",
    "name, age, roll_no = 'Steve', 44, 28\n"
   ]
  },
  {
   "cell_type": "code",
   "execution_count": 33,
   "metadata": {},
   "outputs": [
    {
     "name": "stdout",
     "output_type": "stream",
     "text": [
      "True\n"
     ]
    }
   ],
   "source": [
    "\n",
    "## Case 3: Using any and all functions\n",
    "# Old code to check if any even number present\n",
    "num_list = [12, 22, 33, 44, 55]\n",
    "# bad \n",
    "for value in num_list:\n",
    "    if value % 2 == 0:\n",
    "        is_even_present = True\n",
    "        break\n",
    "\n",
    "print(is_even_present) \n"
   ]
  },
  {
   "cell_type": "code",
   "execution_count": 36,
   "metadata": {},
   "outputs": [
    {
     "name": "stdout",
     "output_type": "stream",
     "text": [
      "True\n"
     ]
    }
   ],
   "source": [
    "# good \n",
    "\n",
    "## Case 3: Using any and all functions\n",
    "# Old code to check if any even number present\n",
    "num_list = [12, 22, 33, 44, 55]\n",
    "\n",
    "is_even_present = any(value % 2 == 0 for value in num_list)\n",
    "\n",
    "\n",
    "print(is_even_present) "
   ]
  },
  {
   "cell_type": "code",
   "execution_count": 41,
   "metadata": {},
   "outputs": [
    {
     "name": "stdout",
     "output_type": "stream",
     "text": [
      "22\n"
     ]
    }
   ],
   "source": [
    "\n",
    "# Case 4: Lambda Function\n",
    "## A Simple function to calculate_average\n",
    "\n",
    "#bad\n",
    "\n",
    "def get_greater_number(num_1, num_2):\n",
    "    if num_1 > num_2:\n",
    "        return num_1\n",
    "    return num_2\n",
    "\n",
    "\n",
    "print(get_greater(12, 22))"
   ]
  },
  {
   "cell_type": "code",
   "execution_count": 40,
   "metadata": {},
   "outputs": [
    {
     "name": "stdout",
     "output_type": "stream",
     "text": [
      "22\n"
     ]
    }
   ],
   "source": [
    "# good \n",
    "\n",
    "# Case 4: Lambda Function\n",
    "## A Simple function to calculate_average\n",
    "'''\n",
    "def get_greater_number(num_1, num_2):\n",
    "    if num_1 > num_2:\n",
    "        return num_1\n",
    "    return num_2\n",
    "'''\n",
    "# You can use lambda(anonymous function) to write this in one line\n",
    " \n",
    "get_greater = lambda num_1, num_2 : num_1 if num_1 > num_2 else num_2\n",
    "print(get_greater(12, 22))"
   ]
  },
  {
   "cell_type": "code",
   "execution_count": 18,
   "metadata": {},
   "outputs": [
    {
     "name": "stdout",
     "output_type": "stream",
     "text": [
      "[1, 9, 25]\n",
      "22\n"
     ]
    }
   ],
   "source": [
    "## Case 1: List Comprehensions in place of for loop\n",
    "# Code to create a new squared_list of numbers based on conditon(if odd)\n",
    "my_numbers = [1,2,3,4,5]\n",
    "'''\n",
    "sqrd_list = []\n",
    "for item in my_numbers:\n",
    "  if item % 2 == 1:\n",
    "    sqrd_list.append(item ** 2)\n",
    "'''\n",
    "# The above four lines can be replaced by a single line\n",
    "sqrd_list = [value ** 2 for value in my_numbers if value % 2 == 1]\n",
    "print(sqrd_list)\n",
    "\n",
    "## Case 2: Value Assignment Using tuple unpacking\n",
    "'''\n",
    "name = 'Steve'\n",
    "age = 44\n",
    "roll_no = 28\n",
    "'''\n",
    "# The above task can be easily done using tuple unpacking\n",
    "# on a single line\n",
    "name, age, roll_no = 'Steve', 44, 28\n",
    "\n",
    "## Case 3: Using any and all functions\n",
    "# Old code to check if any even number present\n",
    "num_list = [12, 22, 33, 44, 55]\n",
    "'''\n",
    "for value in num_list:\n",
    "    if value % 2 == 0:\n",
    "        is_even_present = True\n",
    "        break\n",
    "'''\n",
    "is_even_present = any(value % 2 == 0 for value in num_list)\n",
    "\n",
    "# Case 4: Lambda Function\n",
    "## A Simple function to calculate_average\n",
    "'''\n",
    "def get_greater_number(num_1, num_2):\n",
    "    if num_1 > num_2:\n",
    "        return num_1\n",
    "    return num_2\n",
    "'''\n",
    "# You can use lambda(anonymous function) to write this in one line\n",
    " \n",
    "get_greater = lambda num_1, num_2 : num_1 if num_1 > num_2 else num_2\n",
    "print(get_greater(12, 22))"
   ]
  },
  {
   "cell_type": "markdown",
   "metadata": {},
   "source": [
    "### code Optimization "
   ]
  },
  {
   "cell_type": "code",
   "execution_count": 46,
   "metadata": {},
   "outputs": [],
   "source": [
    "## Code Optimization Technique\n",
    "import time\n",
    "# Functions that takes a value and performs increement and decreement\n",
    "# certain number of times\n",
    "# Each time the variables are initialized within the loop\n",
    "def increement_1(value, times):\n",
    "    for i in range(0, times):\n",
    "        increase_by = 100\n",
    "        decrease_by = 50\n",
    "        value += increase_by\n",
    "        value -= decrease_by\n"
   ]
  },
  {
   "cell_type": "markdown",
   "metadata": {},
   "source": []
  },
  {
   "cell_type": "code",
   "execution_count": 47,
   "metadata": {},
   "outputs": [],
   "source": [
    "# Here the variables are initialized outside the loop which makes it a \n",
    "# constant time complexicity O(1)\n",
    "def increement_2(value, times):\n",
    "    increase_by = 1000\n",
    "    decrease_by = 50\n",
    "    for i in range(0, times):\n",
    "        value += increase_by\n",
    "        value -= decrease_by"
   ]
  },
  {
   "cell_type": "code",
   "execution_count": 48,
   "metadata": {},
   "outputs": [
    {
     "name": "stdout",
     "output_type": "stream",
     "text": [
      "increement_1 : --- 5.1469566822052 ---\n",
      "increement_1 : --- 4.8335654735565186 ---\n"
     ]
    }
   ],
   "source": [
    "## Code Optimization Technique\n",
    "import time\n",
    "# Functions that takes a value and performs increement and decreement\n",
    "# certain number of times\n",
    "# Each time the variables are initialized within the loop\n",
    "def increement_1(value, times):\n",
    "    for i in range(0, times):\n",
    "        increase_by = 100\n",
    "        decrease_by = 50\n",
    "        value += increase_by\n",
    "        value -= decrease_by\n",
    "# Here the variables are initialized outside the loop which makes it a \n",
    "# constant time complexicity O(1)\n",
    "def increement_2(value, times):\n",
    "    increase_by = 1000\n",
    "    decrease_by = 50\n",
    "    for i in range(0, times):\n",
    "        value += increase_by\n",
    "        value -= decrease_by\n",
    "        \n",
    "        \n",
    "# Case_1\n",
    "start_time = time.time()\n",
    "increement_1(1000, 100000000)\n",
    "print(\"increement_1 : --- {} ---\".format(time.time() - start_time))\n",
    "# Case_2\n",
    "start_time = time.time()\n",
    "increement_2(1000, 100000000)\n",
    "print(\"increement_1 : --- {} ---\".format(time.time() - start_time))"
   ]
  },
  {
   "cell_type": "markdown",
   "metadata": {},
   "source": [
    "-- A developer can optimise the execution time of their code in multiple ways. These are as follows:\n",
    "\n",
    " \n",
    "\n",
    "-- Use list comprehensions in place of for loops\n",
    "\n",
    "-- Use built-in functions such as sum, map and reduce wherever possible. These functions are already defined in C and are optimised. For example, to perform the addition of the numbers present in the list such as num_list = [1, 2, 3, 5, 6], you would do the following.\n",
    "\n",
    "result = 0\n",
    "for value in num_list:\n",
    "    result += value\n",
    "Using built-in functions you can perform this addition by simply calling the sum function over the array; for example, result = sum(num_list). \n",
    "\n",
    "Local variables should be preferred instead of global variables because of security vulnerabilities associated with global variables."
   ]
  },
  {
   "cell_type": "markdown",
   "metadata": {},
   "source": [
    "-- List comprehensions are a concise and efficient way to create lists in Python. They are generally faster than equivalent for loops because they are optimized to be interpreted in a predictable pattern, do not need to look up the list each time, and do not need to execute the append statement during each run"
   ]
  },
  {
   "cell_type": "code",
   "execution_count": 50,
   "metadata": {},
   "outputs": [
    {
     "name": "stdout",
     "output_type": "stream",
     "text": [
      "[0, 1, 4, 9, 16, 25, 36, 49, 64, 81]\n"
     ]
    }
   ],
   "source": [
    "squares = []\n",
    "for i in range(10):\n",
    "    squares.append(i**2)\n",
    "\n",
    "print (squares)"
   ]
  },
  {
   "cell_type": "markdown",
   "metadata": {},
   "source": [
    "-- This code is more concise and easier to read than the previous version. It also runs faster because it avoids the overhead of the loop construct."
   ]
  },
  {
   "cell_type": "code",
   "execution_count": 51,
   "metadata": {},
   "outputs": [
    {
     "name": "stdout",
     "output_type": "stream",
     "text": [
      "[0, 1, 4, 9, 16, 25, 36, 49, 64, 81]\n"
     ]
    }
   ],
   "source": [
    "squares = [i**2 for i in range(10)]\n",
    "print (squares)"
   ]
  },
  {
   "cell_type": "markdown",
   "metadata": {},
   "source": [
    "-- Use built-in functions such as sum, map and reduce wherever possible. These functions are already defined in C and are optimised. For example, to perform the addition of the numbers present in the list such as num_list = [1, 2, 3, 5, 6], you would do the following.\n",
    "\n",
    "result = 0\n",
    "for value in num_list:\n",
    "    result += value\n",
    "Using built-in functions you can perform this addition by simply calling the sum function over the array; for example, result = sum(num_list)."
   ]
  },
  {
   "cell_type": "code",
   "execution_count": 53,
   "metadata": {},
   "outputs": [
    {
     "name": "stdout",
     "output_type": "stream",
     "text": [
      "17\n"
     ]
    }
   ],
   "source": [
    "num_list = [1, 2, 3, 5, 6]\n",
    "\n",
    "result = 0\n",
    "for value in num_list:\n",
    "    result += value\n",
    "print (result) "
   ]
  },
  {
   "cell_type": "code",
   "execution_count": 58,
   "metadata": {},
   "outputs": [
    {
     "name": "stdout",
     "output_type": "stream",
     "text": [
      "17\n"
     ]
    }
   ],
   "source": [
    "num_list = [1, 2, 3, 5, 6] \n",
    "result = sum(num_list) \n",
    "print (result) "
   ]
  },
  {
   "cell_type": "markdown",
   "metadata": {},
   "source": [
    "--In Python, local variables are those that are defined inside a function and can only be accessed within that function. On the other hand, global variables are defined outside of any function and can be accessed from anywhere in the program.\n",
    "\n",
    "Here’s an example to illustrate the difference between local and global variables in Python:"
   ]
  },
  {
   "cell_type": "code",
   "execution_count": 60,
   "metadata": {},
   "outputs": [
    {
     "name": "stdout",
     "output_type": "stream",
     "text": [
      "Local variable y = 5\n",
      "Global variable x = 10\n"
     ]
    }
   ],
   "source": [
    "# Define a global variable\n",
    "x = 10\n",
    "\n",
    "def my_function():\n",
    "    # Define a local variable\n",
    "    y = 5\n",
    "    print(\"Local variable y =\", y)\n",
    "\n",
    "# Call the function\n",
    "my_function()\n",
    "\n",
    "# Access the global variable\n",
    "print(\"Global variable x =\", x)"
   ]
  },
  {
   "cell_type": "code",
   "execution_count": 87,
   "metadata": {},
   "outputs": [
    {
     "name": "stdout",
     "output_type": "stream",
     "text": [
      "[1, 3, 5]\n"
     ]
    }
   ],
   "source": [
    "# Here are some examples of Python code that illustrate the concepts mentioned in the text:\n",
    "\n",
    "#Using a for loop to delete elements from a list:\n",
    "\n",
    "# Create a list of numbers\n",
    "numbers = [1, 2, 3, 4, 5]\n",
    "\n",
    "# Delete elements from the list using a for loop\n",
    "for i in numbers.copy():\n",
    "    if i % 2 == 0:\n",
    "        numbers.remove(i)\n",
    "\n",
    "print(numbers)\n",
    "\n",
    "\n",
    "# In this example, we create a list of numbers and then use a for loop to delete the even numbers from the list. We do this by iterating over the indices of the list and using the pop() method to remove the even numbers.\n",
    "\n"
   ]
  },
  {
   "cell_type": "code",
   "execution_count": 89,
   "metadata": {},
   "outputs": [
    {
     "name": "stdout",
     "output_type": "stream",
     "text": [
      "3\n",
      "2\n",
      "1\n"
     ]
    }
   ],
   "source": [
    "#Using a linked list to store values:\n",
    "\n",
    "# Define a Node class to represent a node in the linked list\n",
    "class Node:\n",
    "    def __init__(self, value):\n",
    "        self.value = value\n",
    "        self.next = None\n",
    "\n",
    "# Define a LinkedList class to represent the linked list\n",
    "class LinkedList:\n",
    "    def __init__(self):\n",
    "        self.head = None\n",
    "\n",
    "    def add_node(self, value):\n",
    "        new_node = Node(value)\n",
    "        new_node.next = self.head\n",
    "        self.head = new_node\n",
    "\n",
    "# Create a linked list and add some values to it\n",
    "my_list = LinkedList()\n",
    "my_list.add_node(1)\n",
    "my_list.add_node(2)\n",
    "my_list.add_node(3)\n",
    "\n",
    "# Print the values in the linked list\n",
    "current_node = my_list.head\n",
    "while current_node is not None:\n",
    "    print(current_node.value)\n",
    "    current_node = current_node.next\n",
    "\n",
    "# In this example, we define a Node class to represent a node in the linked list and a LinkedList class to represent the linked list itself.\n",
    "# We then create a linked list and add some values to it using the add_node() method.\n",
    "# Finally, we print the values in the linked list by iterating over the nodes using a while loop."
   ]
  },
  {
   "cell_type": "code",
   "execution_count": 99,
   "metadata": {},
   "outputs": [
    {
     "name": "stdout",
     "output_type": "stream",
     "text": [
      "z1= 16\n",
      "z2= 16\n"
     ]
    }
   ],
   "source": [
    "#One example of code optimization technique in terms of memory or space complexity is variable propagation.\n",
    "# It replaces variables with their values to reduce the number of variables used and improve performance 1. \n",
    "#For instance, consider the following code:\n",
    "\n",
    "x = 5\n",
    "y = x + 3\n",
    "z1 = y * 2\n",
    "print ('z1=', z1)\n",
    "#Here, we can replace x with its value 5 and y with 8 to get:\n",
    "\n",
    "z2 = 8 * 2\n",
    "print ('z2=', z2)\n",
    "# This reduces the number of variables used and can improve performance."
   ]
  },
  {
   "cell_type": "markdown",
   "metadata": {},
   "source": [
    "Below are examples used to compare Linked lists vs Arrays regrading their efficiency "
   ]
  },
  {
   "cell_type": "code",
   "execution_count": 100,
   "metadata": {},
   "outputs": [
    {
     "name": "stdout",
     "output_type": "stream",
     "text": [
      "3\n",
      "3\n"
     ]
    }
   ],
   "source": [
    "# Create an array of integers\n",
    "my_array = [1, 2, 3, 4, 5]\n",
    "\n",
    "# Access an element in the array\n",
    "print(my_array[2])  # Output: 3\n",
    "\n",
    "# Create a linked list of integers\n",
    "class Node:\n",
    "    def __init__(self, value):\n",
    "        self.value = value\n",
    "        self.next = None\n",
    "\n",
    "my_list = Node(1)\n",
    "my_list.next = Node(2)\n",
    "my_list.next.next = Node(3)\n",
    "my_list.next.next.next = Node(4)\n",
    "my_list.next.next.next.next = Node(5)\n",
    "\n",
    "# Access an element in the linked list\n",
    "current_node = my_list\n",
    "for i in range(2):\n",
    "    current_node = current_node.next\n",
    "print(current_node.value)  # Output: 3\n"
   ]
  },
  {
   "cell_type": "markdown",
   "metadata": {},
   "source": [
    "### comparison between *list comprehensions* and *for loop*"
   ]
  },
  {
   "cell_type": "code",
   "execution_count": 102,
   "metadata": {},
   "outputs": [
    {
     "name": "stdout",
     "output_type": "stream",
     "text": [
      "For loops: 31.582753658294678\n",
      "List Comprehension: 43.765788555145264\n"
     ]
    }
   ],
   "source": [
    "import time\n",
    "sqrd_numbers = []\n",
    "\n",
    "# Case_1\n",
    "start_time = time.time()\n",
    "for i in range(100000000):\n",
    "    sqrd_numbers.append(i ** 2)\n",
    "print('For loops: {}'.format(time.time() - start_time))\n",
    "\n",
    "sqrd_number = []\n",
    "\n",
    "# Case_2\n",
    "start_time = time.time()\n",
    "sqrd_number_2 = [(i ** 2) for i in range(100000000)]\n",
    "print('List Comprehension: {}'.format(time.time() - start_time))\n"
   ]
  },
  {
   "cell_type": "markdown",
   "metadata": {},
   "source": [
    "The .format() method is used to format a string by replacing placeholders with values. In the given code, it is used to print the time taken by the two different methods to create a list of squared numbers. The placeholders {} in the strings \"For loops: {}\" and \"List Comprehension: {}\" are replaced with the time taken by the respective code blocks to execute. The time is calculated using the time.time() method, which returns the number of seconds since the epoch (January 1, 1970, 00:00:00 UTC). The difference between the start and end times is calculated by subtracting the start time from the end time. This value is then passed as an argument to the .format() method, which replaces the placeholder with the calculated value.\n",
    "\n",
    "In the given code, the first case uses a for loop to create a list of squared numbers, while the second case uses a list comprehension to achieve the same result. The time taken by each method is printed using the .format() method."
   ]
  },
  {
   "cell_type": "markdown",
   "metadata": {},
   "source": [
    "https://www.geeksforgeeks.org/python-time-time-method/"
   ]
  },
  {
   "cell_type": "code",
   "execution_count": 121,
   "metadata": {},
   "outputs": [
    {
     "name": "stdout",
     "output_type": "stream",
     "text": [
      "epoch is: Thu Jan  1 00:00:00 1970\n",
      "Time in seconds since the epoch: 1705622481.360792\n"
     ]
    }
   ],
   "source": [
    "#Code #1: Use of time.time() method\n",
    "\n",
    "# Python program to explain time.time() method \n",
    "  \n",
    "# importing time module \n",
    "import time \n",
    "  \n",
    "# Get the epoch \n",
    "obj = time.gmtime(0) \n",
    "epoch = time.asctime(obj) \n",
    "print(\"epoch is:\", epoch) \n",
    "  \n",
    "# Get the time in seconds \n",
    "# since the epoch \n",
    "time_sec = time.time() \n",
    "  \n",
    "# Print the time  \n",
    "print(\"Time in seconds since the epoch:\", time_sec) \n",
    "#Output:\n",
    "#epoch is: Thu Jan  1 00:00:00 1970\n",
    "#Time in seconds since the epoch: 1566454995.8361387"
   ]
  },
  {
   "cell_type": "code",
   "execution_count": 122,
   "metadata": {},
   "outputs": [
    {
     "name": "stdout",
     "output_type": "stream",
     "text": [
      "Date 1: Sat Jan  1 00:00:00 2000\n",
      "Date 2: Thu Aug 22 00:00:00 2019\n",
      "Seconds between date 1 and date 2 is  619743600.000000 seconds\n"
     ]
    }
   ],
   "source": [
    "#Code #2: Calculate seconds between two date\n",
    "\n",
    "\n",
    "# Python program to explain time.time() method \n",
    "  \n",
    "# importing time module \n",
    "import time \n",
    "  \n",
    "# Date 1 \n",
    "date1 = \"1 Jan 2000 00:00:00\"\n",
    "  \n",
    "# Date 2 \n",
    "# Current date \n",
    "date2 = \"22 Aug 2019 00:00:00\"\n",
    "  \n",
    "# Parse the date strings \n",
    "# and convert it in  \n",
    "# time.struct_time object using \n",
    "# time.strptime() method \n",
    "obj1 = time.strptime(date1, \"%d %b %Y %H:%M:%S\") \n",
    "obj2 = time.strptime(date2, \"%d %b %Y %H:%M:%S\") \n",
    "  \n",
    "# Get the time in seconds \n",
    "# since the epoch \n",
    "# for both time.struct_time objects \n",
    "time1 = time.mktime(obj1) \n",
    "time2 = time.mktime(obj2) \n",
    "  \n",
    "print(\"Date 1:\", time.asctime(obj1)) \n",
    "print(\"Date 2:\", time.asctime(obj2)) \n",
    "  \n",
    "  \n",
    "# Seconds between Date 1 and date 2 \n",
    "seconds = time2 - time1 \n",
    "print(\"Seconds between date 1 and date 2 is % f seconds\" % seconds) \n",
    "#Output:\n",
    "#Date 1: Sat Jan  1 00:00:00 2000\n",
    "#Date 2: Thu Aug 22 00:00:00 2019\n",
    "#Seconds between date 1 and date 2 is 619747200.000000 seconds\n",
    "#Reference: https://docs.python.org/3/library/time.html#time.time"
   ]
  },
  {
   "cell_type": "code",
   "execution_count": 136,
   "metadata": {},
   "outputs": [
    {
     "ename": "IndentationError",
     "evalue": "unexpected indent (439583324.py, line 2)",
     "output_type": "error",
     "traceback": [
      "\u001b[1;36m  Cell \u001b[1;32mIn[136], line 2\u001b[1;36m\u001b[0m\n\u001b[1;33m    neighbors = input(some_list, index)\u001b[0m\n\u001b[1;37m    ^\u001b[0m\n\u001b[1;31mIndentationError\u001b[0m\u001b[1;31m:\u001b[0m unexpected indent\n"
     ]
    }
   ],
   "source": [
    "# Bad codes\n",
    "    neighbors = input(some_list, index)\n",
    "\n",
    "    if index - 1 >= 0:\n",
    "        neighbors.append(some_list[index-1])\n",
    "    if index < len(some_list):\n",
    "        neighbors.append(some_list[index+1])\n",
    "\n",
    "    return neighbors\n"
   ]
  },
  {
   "cell_type": "code",
   "execution_count": 159,
   "metadata": {},
   "outputs": [
    {
     "name": "stdout",
     "output_type": "stream",
     "text": [
      "[7, 'banana']\n"
     ]
    }
   ],
   "source": [
    "# Better ones\n",
    "\n",
    "def get_neighbors(some_list, index):\n",
    "# Returns the neighbors of a given index in a list\n",
    "    neighbors = []\n",
    "\n",
    "    if index - 1 >= 0:\n",
    "        neighbors.append(some_list[index-1])\n",
    "    if index < len(some_list):\n",
    "        neighbors.append(some_list[index+1])\n",
    "\n",
    "    return neighbors\n",
    "\n",
    "#some_list = [8,7,\"car\",\"banana\",10]\n",
    "some_list = [8,7,\"car\",\"banana\",10, \"apple\", 100, 400]\n",
    "\n",
    "#print(get_neighbors(some_list, 2))\n",
    "print(get_neighbors(some_list, 6))\n"
   ]
  },
  {
   "cell_type": "code",
   "execution_count": null,
   "metadata": {},
   "outputs": [],
   "source": [
    "some_list = [8,7,\"car\",\"banana\",10, \"apple\", 100, 400]"
   ]
  },
  {
   "cell_type": "code",
   "execution_count": 161,
   "metadata": {},
   "outputs": [
    {
     "name": "stdout",
     "output_type": "stream",
     "text": [
      "['apple', 400]\n",
      "Help on function get_neighbours in module __main__:\n",
      "\n",
      "get_neighbours(some_list, index)\n",
      "    Returns the neighbors of a given index in a list.\n",
      "    \n",
      "    Parameters:\n",
      "        some_list (list): Any basic list.\n",
      "        index (int): Position of an item in some_list.\n",
      "    \n",
      "    Returns:\n",
      "        neighbors (list): A list of the elements beside the index in some_list.\n",
      "    Sample usage some_list = [8,7,\"car\",\"banana\",10]\n",
      "\n",
      "None\n"
     ]
    }
   ],
   "source": [
    "# Best ones\n",
    "\n",
    "def get_neighbours(some_list, index):\n",
    "    \"\"\"Returns the neighbors of a given index in a list.\n",
    "\n",
    "        Parameters:\n",
    "            some_list (list): Any basic list.\n",
    "            index (int): Position of an item in some_list.\n",
    "\n",
    "        Returns:\n",
    "            neighbors (list): A list of the elements beside the index in some_list.\n",
    "        Sample usage some_list = [8,7,\"car\",\"banana\",10]\n",
    "          \n",
    "    \"\"\"\n",
    "\n",
    "    neighbors = [] # creating an empty list\n",
    " #checking the boundary cases\n",
    "    if index - 1 >= 0:\n",
    "        neighbors.append(some_list[index-1])\n",
    "    if index < len(some_list):\n",
    "        neighbors.append(some_list[index+1])\n",
    "\n",
    "    return neighbors\n",
    "\n",
    "#some_list = [8,7,\"car\",\"banana\",10]\n",
    "some_list = [8,7,\"car\",\"banana\",10, \"apple\", 100, 400]\n",
    "\n",
    "#print(get_neighbors(some_list, 2))\n",
    "print(get_neighbors(some_list, 6))\n",
    "\n",
    "print (help(get_neighbours))\n"
   ]
  },
  {
   "cell_type": "code",
   "execution_count": 166,
   "metadata": {},
   "outputs": [],
   "source": [
    "#Here are some examples of docstrings and multiline comments in Python:\n",
    "\n",
    "#Python\n",
    "\n",
    "def add(x, y):\n",
    "    \"\"\"(int, int) -> int\n",
    "\n",
    "    Return the sum of x and y.\n",
    "\n",
    "    >>> add(2, 3)\n",
    "    5\n",
    "    >>> add(-1, 4)\n",
    "    3\n",
    "    \"\"\"\n",
    "    return x + y\n",
    "\n",
    "\"\"\"\n",
    "This is a multiline comment\n",
    "written using a multiline string\n",
    "\"\"\"\n",
    "\n",
    "def subtract(x, y):\n",
    "    # This is a single-line comment\n",
    "    return x - y"
   ]
  }
 ],
 "metadata": {
  "kernelspec": {
   "display_name": "Python 3",
   "language": "python",
   "name": "python3"
  },
  "language_info": {
   "codemirror_mode": {
    "name": "ipython",
    "version": 3
   },
   "file_extension": ".py",
   "mimetype": "text/x-python",
   "name": "python",
   "nbconvert_exporter": "python",
   "pygments_lexer": "ipython3",
   "version": "3.11.5"
  }
 },
 "nbformat": 4,
 "nbformat_minor": 2
}
